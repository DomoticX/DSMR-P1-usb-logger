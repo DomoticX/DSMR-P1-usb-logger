{
 "cells": [
  {
   "cell_type": "code",
   "execution_count": 10,
   "metadata": {},
   "outputs": [],
   "source": [
    "#function: Upload to server\n",
    "import ftplib\n",
    "\n",
    "def upload_to_server(path_to_file):\n",
    "    session = ftplib.FTP('ftp.allianders.nl','disaggregation@allianders.nl','uploadyourdata')\n",
    "    file = open(path_to_file,'rb')                      # file to send\n",
    "\n",
    "    try:\n",
    "        print (\"Upload started...\")\n",
    "        session.storbinary('STOR '+path_to_file, file)     # send the file\n",
    "        print (\"Upload succeded\")\n",
    "    except:\n",
    "        print (\"Upload failed...\")\n",
    "\n",
    "    file.close()                                      # close file and FTP\n",
    "    session.quit()\n"
   ]
  },
  {
   "cell_type": "code",
   "execution_count": 12,
   "metadata": {},
   "outputs": [
    {
     "name": "stdout",
     "output_type": "stream",
     "text": [
      "['a920861bb3f76b973d6bb7fb4d9be5b4.db']\n",
      "Upload started...\n",
      "Upload succeded\n"
     ]
    }
   ],
   "source": [
    "#save all files in de folder data to server\n",
    "path= \"./data/\"\n",
    "from os import listdir\n",
    "from os.path import isfile, join\n",
    "\n",
    "onlyfiles = [f for f in listdir(path) if isfile(join(path, f))]\n",
    "print (onlyfiles)\n",
    "\n",
    "for file in onlyfiles:\n",
    "    path_to_file = path + file\n",
    "    upload_to_server(path_to_file)"
   ]
  },
  {
   "cell_type": "code",
   "execution_count": 18,
   "metadata": {},
   "outputs": [
    {
     "name": "stdout",
     "output_type": "stream",
     "text": [
      "220 ProFTPD Server ready.\n",
      "Logging in...\n",
      "Downloaded: example.db\n"
     ]
    }
   ],
   "source": [
    "#test download\n",
    "import ftplib\n",
    "ftp = ftplib.FTP()\n",
    "host = \"ftp.allianders.nl\"\n",
    "path = '/data'\n",
    "filename = 'example.db'\n",
    "\n",
    "port = 21\n",
    "ftp.connect(host, port)\n",
    "print (ftp.getwelcome())\n",
    "try:\n",
    "    print (\"Logging in...\")\n",
    "    ftp.login('disaggregation@allianders.nl','uploadyourdata')\n",
    "    ftp.cwd(path)\n",
    "    try:\n",
    "        ftp.retrbinary(\"RETR \" + filename ,open(filename, 'wb').write)\n",
    "        print (\"Downloaded: \" +filename)\n",
    "    except:\n",
    "        print(\"Error during download\")\n",
    "except:\n",
    "    print (\"Failed to login\")\n"
   ]
  }
 ],
 "metadata": {
  "kernelspec": {
   "display_name": "Python 3",
   "language": "python",
   "name": "python3"
  },
  "language_info": {
   "codemirror_mode": {
    "name": "ipython",
    "version": 3
   },
   "file_extension": ".py",
   "mimetype": "text/x-python",
   "name": "python",
   "nbconvert_exporter": "python",
   "pygments_lexer": "ipython3",
   "version": "3.6.1"
  }
 },
 "nbformat": 4,
 "nbformat_minor": 2
}
